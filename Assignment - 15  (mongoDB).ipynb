{
 "cells": [
  {
   "cell_type": "markdown",
   "id": "fdc13f8e",
   "metadata": {},
   "source": [
    "Q1. What is MongoDB? Explain non-relational databases in short. In which scenarios it is preferred to     use MongoDB over SQL databases?\n",
    "\n",
    "Ans:MongoDB is a popular non-relational database that stores data in a document-oriented manner. It is designed to handle large amounts of unstructured data, and its flexible schema allows for dynamic changes to data structures without requiring a predefined schema.\n",
    "\n",
    "Non-relational databases, also known as NoSQL databases, store data in a way that is different from traditional SQL databases. Instead of using tables and rows, they use documents, key-value pairs, or graph structures to organize and store data. This makes them a better choice for certain types of applications that require high scalability, performance, and agility.\n",
    "\n",
    "MongoDB is preferred over SQL databases in scenarios where the application needs to handle large volumes of unstructured or semi-structured data, such as social media analytics, e-commerce websites, and mobile applications. It is also well-suited for real-time processing and high write throughput, thanks to its ability to handle complex queries and high concurrency. Additionally, MongoDB's flexible schema makes it easier to store and manage unstructured data that may evolve over time, without the need for a predefined schema or complex data transformations."
   ]
  },
  {
   "cell_type": "markdown",
   "id": "f8a30031",
   "metadata": {},
   "source": [
    "Q2. State and Explain the features of MongoDB.\n",
    "\n",
    "Ans: MongoDB is a popular NoSQL document-based database that offers various features that make it an attractive choice for developers. Here are some of the key features of MongoDB:\n",
    "\n",
    "Document-based: MongoDB is a document-based database, which means it stores data in flexible, JSON-like documents. Each document can have its own structure, which allows for more natural and intuitive data modeling.\n",
    "\n",
    "High scalability: MongoDB's architecture is designed for high scalability and performance. It can easily handle large amounts of data and can scale horizontally across multiple servers.\n",
    "\n",
    "High availability: MongoDB is designed to provide high availability and data redundancy through replica sets. This means that even if one server fails, the data is still available on other servers.\n",
    "\n",
    "Flexible schema: MongoDB's schema-less nature allows for more flexible data modeling. This means that data can be added, removed, or modified without the need to modify the database schema.\n",
    "\n",
    "Indexing: MongoDB supports various indexing options, which can significantly improve query performance. It supports indexing on individual fields, compound indexes, text search, and geospatial indexes.\n",
    "\n",
    "Aggregation: MongoDB provides a powerful aggregation framework that allows for complex data analysis and transformation. This includes support for grouping, filtering, and transforming data.\n",
    "\n",
    "Ad-hoc queries: MongoDB supports ad-hoc queries, which means that queries can be performed without the need to define a specific schema or data model beforehand.\n",
    "\n",
    "MapReduce: MongoDB also supports MapReduce, which is a programming model used for processing large data sets. It allows for distributed processing of data across multiple nodes."
   ]
  },
  {
   "cell_type": "markdown",
   "id": "7f7de0b0",
   "metadata": {},
   "source": [
    "Q3. Write a code to connect MongoDB to Python. Also, create a database and a collection in MongoDB."
   ]
  },
  {
   "cell_type": "code",
   "execution_count": null,
   "id": "8873b6f4",
   "metadata": {},
   "outputs": [],
   "source": [
    "# Import the PyMongo library\n",
    "import pymongo\n",
    "\n",
    "# Connect to the MongoDB server\n",
    "client = pymongo.MongoClient(\"mongodb://localhost:27017/\")\n",
    "\n",
    "# Create a new database\n",
    "db = client[\"mydatabase\"]\n",
    "\n",
    "# Create a new collection in the database\n",
    "collection = db[\"mycollection\"]\n",
    "\n",
    "# Insert a new document into the collection\n",
    "document = {\"name\": \"Amit\", \"age\": 25, \"city\": \"Agra\"}\n",
    "collection.insert_one(document)\n",
    "\n",
    "# Find a document in the collection\n",
    "query = {\"name\": \"Amit\"}\n",
    "result = collection.find_one(query)\n",
    "print(result)"
   ]
  },
  {
   "cell_type": "markdown",
   "id": "8d2af1c6",
   "metadata": {},
   "source": [
    "Q4. Using the database and the collection created in question number 3, write a code to insert one         record, and insert many records. Use the find() and find_one() methods to print the inserted           record."
   ]
  },
  {
   "cell_type": "code",
   "execution_count": null,
   "id": "d936b9f9",
   "metadata": {},
   "outputs": [],
   "source": [
    "# Import the PyMongo library\n",
    "import pymongo\n",
    "\n",
    "# Connect to the MongoDB server\n",
    "client = pymongo.MongoClient(\"mongodb://localhost:27017/\")\n",
    "\n",
    "# Create a reference to the \"mycollection\" collection in the \"mydatabase\" database\n",
    "db = client[\"mydatabase\"]\n",
    "collection = db[\"mycollection\"]\n",
    "\n",
    "# Insert one record into the collection\n",
    "record_one = {\"name\": \"Sweta\", \"age\": 23, \"city\": \"Agra\"}\n",
    "result_one = collection.insert_one(record_one)\n",
    "print(\"Inserted record ID:\", result_one.inserted_id)\n",
    "\n",
    "# Insert many records into the collection\n",
    "records_many = [\n",
    "    {\"name\": \"Ashish\", \"age\": 25, \"city\": \"Agra\"},\n",
    "    {\"name\": \"Charlie\", \"age\": 35, \"city\": \"Berlin\"},\n",
    "    {\"name\": \"Lokesh\", \"age\": 24, \"city\": \"Agra\"}\n",
    "]\n",
    "result_many = collection.insert_many(records_many)\n",
    "print(\"Inserted records IDs:\", result_many.inserted_ids)\n",
    "\n",
    "# Find one record in the collection\n",
    "query = {\"name\": \"Sweta\"}\n",
    "result = collection.find_one(query)\n",
    "print(\"Found record:\", result)\n",
    "\n",
    "# Find all records in the collection\n",
    "results = collection.find()\n",
    "print(\"All records:\")\n",
    "for result in results:\n",
    "    print(result)"
   ]
  },
  {
   "cell_type": "markdown",
   "id": "d4873dbb",
   "metadata": {},
   "source": [
    "Q5. Explain how you can use the find() method to query the MongoDB database. Write a simple code to\n",
    "demonstrate this."
   ]
  },
  {
   "cell_type": "code",
   "execution_count": null,
   "id": "b7546cf3",
   "metadata": {},
   "outputs": [],
   "source": [
    "import pymongo\n",
    "\n",
    "# Connect to the MongoDB server\n",
    "client = pymongo.MongoClient(\"mongodb://localhost:27017/\")\n",
    "\n",
    "# Create a reference to the \"mycollection\" collection in the \"mydatabase\" database\n",
    "db = client[\"mydatabase\"]\n",
    "collection = db[\"mycollection\"]\n",
    "\n",
    "# Find all documents in the collection\n",
    "results = collection.find()\n",
    "\n",
    "# Iterate over the results and print each document\n",
    "for result in results:\n",
    "    print(result)"
   ]
  },
  {
   "cell_type": "markdown",
   "id": "38a28cee",
   "metadata": {},
   "source": [
    "Q6. Explain the sort() method. Give an example to demonstrate sorting in MongoDB.\n",
    "\n",
    "Ans:The sort() method is used to sort the results of a MongoDB query in either ascending or descending     order. This method takes one or more key-value pairs that specify the fields to sort by and the       order in which to sort them.\n",
    "\n",
    "Here's an example to demonstrate how to use the sort() method to sort the results of a MongoDB query:"
   ]
  },
  {
   "cell_type": "code",
   "execution_count": null,
   "id": "fc445d6e",
   "metadata": {},
   "outputs": [],
   "source": [
    "# Import the PyMongo library\n",
    "import pymongo\n",
    "\n",
    "# Connect to the MongoDB server\n",
    "client = pymongo.MongoClient(\"mongodb://localhost:27017/\")\n",
    "\n",
    "# Create a reference to the \"mycollection\" collection in the \"mydatabase\" database\n",
    "db = client[\"mydatabase\"]\n",
    "collection = db[\"mycollection\"]\n",
    "\n",
    "# Insert some sample documents into the collection\n",
    "collection.insert_many([\n",
    "    {\"name\": \"Alice\", \"age\": 25},\n",
    "    {\"name\": \"Bob\", \"age\": 30},\n",
    "    {\"name\": \"Charlie\", \"age\": 35}\n",
    "])\n",
    "\n",
    "# Sort the documents in the collection by age in ascending order\n",
    "results = collection.find().sort(\"age\", pymongo.ASCENDING)\n",
    "\n",
    "# Print the sorted documents\n",
    "for result in results:\n",
    "    print(result)"
   ]
  },
  {
   "cell_type": "markdown",
   "id": "838bdef1",
   "metadata": {},
   "source": [
    "Q7. Explain why delete_one(), delete_many(), and drop() is used.\n",
    "\n",
    "Ans:\n",
    "\n",
    "In MongoDB, the delete_one() and delete_many() methods are used to remove documents from a collection that match a specified set of criteria. The drop() method is used to remove an entire collection from a database.\n",
    "\n",
    "Here's a brief explanation of each method:\n",
    "\n",
    "delete_one(filter): This method deletes the first document that matches the specified filter criteria.                     If there are multiple documents that match the criteria, only the first one is                         deleted. This method returns a DeleteResult object that contains information about                     the operation, such as the number of documents deleted.\n",
    "\n",
    "delete_many(filter): This method deletes all documents that match the specified filter criteria. This                      method returns a DeleteResult object that contains information about the                              operation, such as the number of documents deleted.\n",
    "\n",
    "drop(): This method removes an entire collection from the database. This method returns None.\n",
    "\n",
    "These methods are used to remove documents from a MongoDB collection for various reasons, such as removing outdated or invalid data, cleaning up unused records, or removing duplicates. The drop() method is used when you want to completely remove a collection from the database and all of its associated documents.\n",
    "\n",
    "It's important to note that when using any of these methods, you should exercise caution and double-check that you are deleting the correct documents or collections, as the deleted data cannot be recovered."
   ]
  }
 ],
 "metadata": {
  "kernelspec": {
   "display_name": "Python 3 (ipykernel)",
   "language": "python",
   "name": "python3"
  },
  "language_info": {
   "codemirror_mode": {
    "name": "ipython",
    "version": 3
   },
   "file_extension": ".py",
   "mimetype": "text/x-python",
   "name": "python",
   "nbconvert_exporter": "python",
   "pygments_lexer": "ipython3",
   "version": "3.11.0"
  }
 },
 "nbformat": 4,
 "nbformat_minor": 5
}
